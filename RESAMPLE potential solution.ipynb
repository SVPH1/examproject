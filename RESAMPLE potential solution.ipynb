{
 "cells": [
  {
   "cell_type": "code",
   "execution_count": null,
   "metadata": {},
   "outputs": [],
   "source": [
    "# POTENTIAL SOLUTION\n",
    "                                generation_df = generation_df.resample('D').sum()\n",
    "                                generation_df.to_csv(\n",
    "                                        f\"{parent_dir}/examproject/data/raw/{value[0][0:4]}_{country_code}_generation.csv\"\n",
    "                                )\n",
    "                                # Load to .json\n",
    "                                generation_df.to_json(\n",
    "                                        f\"{parent_dir}/examproject/data/raw/{value[0][0:4]}_{country_code}_generation.json\",\n",
    "                                        indent = 4,\n",
    "                                        orient = \"records\"\n",
    "                                )"
   ]
  }
 ],
 "metadata": {
  "language_info": {
   "name": "python"
  },
  "orig_nbformat": 4
 },
 "nbformat": 4,
 "nbformat_minor": 2
}
