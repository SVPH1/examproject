{
 "cells": [
  {
   "attachments": {},
   "cell_type": "markdown",
   "metadata": {},
   "source": [
    "# raw_to_harmonized"
   ]
  },
  {
   "cell_type": "code",
   "execution_count": 36,
   "metadata": {},
   "outputs": [],
   "source": [
    "# Import packages & setting up a connection to the ENTSOE API Client\n",
    "import pandas as pd\n",
    "import numpy as np"
   ]
  },
  {
   "cell_type": "code",
   "execution_count": 37,
   "metadata": {},
   "outputs": [
    {
     "name": "stdout",
     "output_type": "stream",
     "text": [
      "c:\\Users\\SantiTaweesamarn\\Desktop\\My Desktop\\Data Engineering 2022\\Module - Graduation Project\\examproject\\2. raw_to_harmonized\n",
      "c:\\Users\\SantiTaweesamarn\\Desktop\\My Desktop\\Data Engineering 2022\\Module - Graduation Project\\examproject\n",
      "c:\\Users\\SantiTaweesamarn\\Desktop\\My Desktop\\Data Engineering 2022\\Module - Graduation Project\\examproject\\data\\raw\n"
     ]
    }
   ],
   "source": [
    "# Create a Local Reference\n",
    "import os\n",
    "current_dir = os.path.abspath(\"\")\n",
    "parent_dir = os.path.abspath(current_dir + \"/../\")\n",
    "data_dir = os.path.abspath(parent_dir + \"/data/raw/\")\n",
    "test_dir = os.path.abspath(parent_dir + \"/data/test/\")\n",
    "\n",
    "print(current_dir)\n",
    "print(parent_dir)\n",
    "print(data_dir)"
   ]
  },
  {
   "cell_type": "code",
   "execution_count": 74,
   "metadata": {},
   "outputs": [
    {
     "name": "stdout",
     "output_type": "stream",
     "text": [
      "                      Unnamed: 0 Biomass Biomass.1 Fossil Brown coal/Lignite  \\\n",
      "34940  2017-12-30 22:45:00+01:00  4781.0       NaN                    6326.0   \n",
      "34941  2017-12-30 23:00:00+01:00  4760.0       NaN                    6501.0   \n",
      "34942  2017-12-30 23:15:00+01:00  4761.0       NaN                    6455.0   \n",
      "34943  2017-12-30 23:30:00+01:00  4763.0       NaN                    6428.0   \n",
      "34944  2017-12-30 23:45:00+01:00  4759.0       NaN                    6375.0   \n",
      "\n",
      "      Fossil Brown coal/Lignite.1 Fossil Coal-derived gas  \\\n",
      "34940                         0.0                   520.0   \n",
      "34941                         0.0                   520.0   \n",
      "34942                         0.0                   491.0   \n",
      "34943                         0.0                   491.0   \n",
      "34944                         0.0                   491.0   \n",
      "\n",
      "      Fossil Coal-derived gas.1 Fossil Gas Fossil Gas.1 Fossil Hard coal  ...  \\\n",
      "34940                       NaN     1154.0          1.0           1464.0  ...   \n",
      "34941                       NaN     1168.0          1.0           1417.0  ...   \n",
      "34942                       NaN     1191.0          1.0           1416.0  ...   \n",
      "34943                       NaN     1186.0          1.0           1413.0  ...   \n",
      "34944                       NaN     1175.0          1.0           1410.0  ...   \n",
      "\n",
      "      Other.1 Other renewable Other renewable.1 Solar Solar.1  Waste Waste.1  \\\n",
      "34940     NaN           157.0               NaN   0.0     0.0  613.0     NaN   \n",
      "34941     NaN           157.0               NaN   0.0     0.0  621.0     NaN   \n",
      "34942     NaN           157.0               NaN   0.0     0.0  621.0     NaN   \n",
      "34943     NaN           157.0               NaN   0.0     0.0  621.0     NaN   \n",
      "34944     NaN           157.0               NaN   0.0     0.0  609.0     NaN   \n",
      "\n",
      "      Wind Offshore Wind Onshore Wind Onshore.1  \n",
      "34940        3573.0      31839.0            0.0  \n",
      "34941        3439.0      31336.0            0.0  \n",
      "34942        3378.0      30908.0            0.0  \n",
      "34943        3573.0      30522.0            0.0  \n",
      "34944        3679.0      30002.0            0.0  \n",
      "\n",
      "[5 rows x 34 columns]\n"
     ]
    },
    {
     "name": "stderr",
     "output_type": "stream",
     "text": [
      "C:\\Users\\SantiTaweesamarn\\AppData\\Local\\Temp\\ipykernel_18168\\3086896339.py:6: DtypeWarning: Columns (1,2,3,4,5,6,7,8,9,10,11,12,13,14,15,16,17,18,19,20,21,22,23,24,25,26,27,28,29,30,31,32,33) have mixed types. Specify dtype option on import or set low_memory=False.\n",
      "  df = pd.read_csv(\n"
     ]
    }
   ],
   "source": [
    "# Read data file(s)\n",
    "import os\n",
    "import glob\n",
    "\n",
    "for file in glob.glob(test_dir + \"/*.csv\"):\n",
    "    df = pd.read_csv(\n",
    "        file,\n",
    "        delimiter = \",\",\n",
    "        # index_col = 0,\n",
    "    )\n",
    "    print(df.tail())"
   ]
  },
  {
   "cell_type": "code",
   "execution_count": null,
   "metadata": {},
   "outputs": [],
   "source": []
  },
  {
   "cell_type": "code",
   "execution_count": null,
   "metadata": {},
   "outputs": [],
   "source": []
  },
  {
   "cell_type": "code",
   "execution_count": null,
   "metadata": {},
   "outputs": [],
   "source": []
  },
  {
   "cell_type": "code",
   "execution_count": null,
   "metadata": {},
   "outputs": [],
   "source": []
  },
  {
   "cell_type": "code",
   "execution_count": null,
   "metadata": {},
   "outputs": [],
   "source": []
  },
  {
   "cell_type": "code",
   "execution_count": null,
   "metadata": {},
   "outputs": [],
   "source": []
  },
  {
   "cell_type": "code",
   "execution_count": null,
   "metadata": {},
   "outputs": [],
   "source": []
  }
 ],
 "metadata": {
  "kernelspec": {
   "display_name": "Python 3",
   "language": "python",
   "name": "python3"
  },
  "language_info": {
   "codemirror_mode": {
    "name": "ipython",
    "version": 3
   },
   "file_extension": ".py",
   "mimetype": "text/x-python",
   "name": "python",
   "nbconvert_exporter": "python",
   "pygments_lexer": "ipython3",
   "version": "3.10.8"
  },
  "orig_nbformat": 4,
  "vscode": {
   "interpreter": {
    "hash": "26de051ba29f2982a8de78e945f0abaf191376122a1563185a90213a26c5da77"
   }
  }
 },
 "nbformat": 4,
 "nbformat_minor": 2
}
