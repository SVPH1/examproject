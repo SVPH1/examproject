{
 "cells": [
  {
   "cell_type": "code",
   "execution_count": 18,
   "metadata": {},
   "outputs": [],
   "source": [
    "# Import packages\n",
    "import requests\n",
    "import pandas as pd\n",
    "\n",
    "from entsoe import EntsoePandasClient\n",
    "client = EntsoePandasClient(api_key = \"688d3008-48f8-4719-b811-28ae09d84db8\")\n",
    "start = pd.Timestamp('20230204', tz = 'Europe/Brussels')\n",
    "end = pd.Timestamp('20231230', tz = 'Europe/Brussels')\n",
    "country_code = 'SE'  # Belgium\n",
    "country_code_from = 'FR'  # France\n",
    "country_code_to = 'DE_LU' # Germany-Luxembourg\n",
    "type_marketagreement_type = 'A01'\n",
    "contract_marketagreement_type = \"A01\""
   ]
  },
  {
   "cell_type": "code",
   "execution_count": 19,
   "metadata": {},
   "outputs": [],
   "source": [
    "# print(start.info())\n",
    "# print(end)"
   ]
  },
  {
   "cell_type": "code",
   "execution_count": 20,
   "metadata": {},
   "outputs": [
    {
     "name": "stdout",
     "output_type": "stream",
     "text": [
      "<class 'pandas.core.frame.DataFrame'>\n",
      "DatetimeIndex: 4 entries, 2023-02-04 00:00:00+01:00 to 2023-02-07 00:00:00+01:00\n",
      "Freq: D\n",
      "Data columns (total 2 columns):\n",
      " #   Column           Non-Null Count  Dtype  \n",
      "---  ------           --------------  -----  \n",
      " 0   Forecasted Load  4 non-null      float64\n",
      " 1   Actual Load      4 non-null      float64\n",
      "dtypes: float64(2)\n",
      "memory usage: 96.0 bytes\n",
      "None\n",
      "Index(['Forecasted Load', 'Actual Load'], dtype='object')\n",
      "                           Forecasted Load  Actual Load\n",
      "2023-02-04 00:00:00+01:00         453202.0     437457.0\n",
      "2023-02-05 00:00:00+01:00         439452.0     431934.0\n",
      "2023-02-06 00:00:00+01:00         459749.0     458627.0\n",
      "2023-02-07 00:00:00+01:00         136451.0     134716.0\n"
     ]
    }
   ],
   "source": [
    "# Extract data using EntsoePandasClient\n",
    "# Actual and Forecast (LOAD)\n",
    "l_aof = client.query_load_and_forecast(country_code, start = start, end = end)\n",
    "l_aof = l_aof.resample(\"D\").sum() # Good to have\n",
    "\n",
    "print(l_aof.info())\n",
    "print(l_aof.keys())\n",
    "print(l_aof.tail())"
   ]
  },
  {
   "cell_type": "code",
   "execution_count": 21,
   "metadata": {},
   "outputs": [
    {
     "name": "stdout",
     "output_type": "stream",
     "text": [
      "                           Fossil Gas  Hydro Water Reservoir  Nuclear   Other  \\\n",
      "2023-02-07 03:00:00+01:00         0.0                 6918.0   5791.0  1132.0   \n",
      "2023-02-07 04:00:00+01:00         0.0                 6971.0   5792.0  1159.0   \n",
      "2023-02-07 05:00:00+01:00         0.0                 7599.0   5791.0  1230.0   \n",
      "2023-02-07 06:00:00+01:00         0.0                 8290.0   5792.0  1302.0   \n",
      "2023-02-07 07:00:00+01:00         0.0                 8626.0   5792.0  1341.0   \n",
      "\n",
      "                           Solar  Wind Onshore  \n",
      "2023-02-07 03:00:00+01:00    0.0        7635.0  \n",
      "2023-02-07 04:00:00+01:00    0.0        7818.0  \n",
      "2023-02-07 05:00:00+01:00    0.0        7579.0  \n",
      "2023-02-07 06:00:00+01:00    0.0        7335.0  \n",
      "2023-02-07 07:00:00+01:00    0.0        7221.0  \n"
     ]
    }
   ],
   "source": [
    "# Actual and Forecast (GENERATION)\n",
    "g_aof = client.query_generation(country_code, start = start, end = end, psr_type = None)\n",
    "print(g_aof.tail())"
   ]
  },
  {
   "cell_type": "code",
   "execution_count": 22,
   "metadata": {},
   "outputs": [],
   "source": [
    "# Load data to file\n",
    "# lof.to_csv(\"lof_result.csv\")"
   ]
  }
 ],
 "metadata": {
  "kernelspec": {
   "display_name": "Python 3",
   "language": "python",
   "name": "python3"
  },
  "language_info": {
   "codemirror_mode": {
    "name": "ipython",
    "version": 3
   },
   "file_extension": ".py",
   "mimetype": "text/x-python",
   "name": "python",
   "nbconvert_exporter": "python",
   "pygments_lexer": "ipython3",
   "version": "3.10.8"
  },
  "orig_nbformat": 4,
  "vscode": {
   "interpreter": {
    "hash": "26de051ba29f2982a8de78e945f0abaf191376122a1563185a90213a26c5da77"
   }
  }
 },
 "nbformat": 4,
 "nbformat_minor": 2
}
