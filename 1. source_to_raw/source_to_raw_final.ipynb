{
 "cells": [
  {
   "attachments": {},
   "cell_type": "markdown",
   "metadata": {},
   "source": [
    "# source_to_raw"
   ]
  },
  {
   "cell_type": "code",
   "execution_count": 231,
   "metadata": {},
   "outputs": [],
   "source": [
    "# Import packages & setting up a connection to the ENTSOE API Client\n",
    "import pandas as pd\n",
    "from entsoe import EntsoePandasClient\n",
    "client = EntsoePandasClient(api_key = \"\")\n",
    "type_marketagreement_type = \"A01\"\n",
    "contract_marketagreement_type = \"A01\""
   ]
  },
  {
   "cell_type": "code",
   "execution_count": 232,
   "metadata": {},
   "outputs": [
    {
     "name": "stdout",
     "output_type": "stream",
     "text": [
      "c:\\Users\\SantiTaweesamarn\\Desktop\\My Desktop\\Data Engineering 2022\\Module - Graduation Project\\examproject\\1. source_to_raw\n",
      "c:\\Users\\SantiTaweesamarn\\Desktop\\My Desktop\\Data Engineering 2022\\Module - Graduation Project\\examproject\n"
     ]
    }
   ],
   "source": [
    "# Create a Local Reference\n",
    "import os\n",
    "current_dir =  os.path.abspath(\"\")\n",
    "parent_dir = os.path.abspath(current_dir + \"/../\")\n",
    "print(current_dir)\n",
    "print(parent_dir)"
   ]
  },
  {
   "cell_type": "code",
   "execution_count": 233,
   "metadata": {},
   "outputs": [],
   "source": [
    "# A dictionary of dates\n",
    "date_dic = {\n",
    "    # \"2017\": [\"20170101\", \"20171231\"],\n",
    "    # \"2018\": [\"20180101\", \"20181231\"],\n",
    "    # \"2019\": [\"20190101\", \"20191231\"],\n",
    "    # \"2020\": [\"20200101\", \"20201231\"],\n",
    "    # \"2021\": [\"20210101\", \"20211231\"],\n",
    "    \"2022\": [\"20220101\", \"20230101\"],\n",
    "    \"2023\": [\"20230101\", \"20231231\"]\n",
    "}"
   ]
  },
  {
   "cell_type": "code",
   "execution_count": 234,
   "metadata": {},
   "outputs": [],
   "source": [
    "# A list of timezones\n",
    "timezone_list = [\n",
    "    \"Europe/Stockholm\"\n",
    "]\n"
   ]
  },
  {
   "cell_type": "code",
   "execution_count": 235,
   "metadata": {},
   "outputs": [],
   "source": [
    "# A list of countries\n",
    "country_list = [\n",
    "    \"SE\",\n",
    "    # \"DE\",\n",
    "    # \"FR\"\n",
    "]"
   ]
  },
  {
   "cell_type": "code",
   "execution_count": 236,
   "metadata": {},
   "outputs": [],
   "source": [
    "# Function for extracting Load/Consumption data from entsoe\n",
    "def load_df_file():\n",
    "        for value in date_dic.values():\n",
    "                start_date = value[0]\n",
    "                end_date = value[1]\n",
    "\n",
    "                for i in timezone_list:\n",
    "                        tz = i\n",
    "                        # print(tz)\n",
    "\n",
    "                        start_date = pd.Timestamp(start_date, tz = tz)\n",
    "                        end_date = pd.Timestamp(end_date, tz = tz)\n",
    "\n",
    "                        for i in country_list:\n",
    "                                country_code = i\n",
    "\n",
    "                                load_df = client.query_load_and_forecast(\n",
    "                                        country_code,\n",
    "                                        start = start_date,\n",
    "                                        end = end_date\n",
    "                                )\n",
    "\n",
    "                                # print(load_df.head())\n",
    "                                # print(load_df.tail())\n",
    "\n",
    "                                # Load to .csv\n",
    "                                load_df.to_csv(\n",
    "                                        f\"{parent_dir}/data/test/{value[0][0:4]}_{country_code}_load.csv\"\n",
    "                                )\n",
    "                                # Load to .json\n",
    "                                load_df.to_json(\n",
    "                                        f\"{parent_dir}/data/test/{value[0][0:4]}_{country_code}_load.json\",\n",
    "                                        indent = 4,\n",
    "                                        orient = \"records\"\n",
    "                                )"
   ]
  },
  {
   "cell_type": "code",
   "execution_count": 237,
   "metadata": {},
   "outputs": [],
   "source": [
    "# # Function for extracting Generation/Production data from entsoe\n",
    "def generation_df_file():\n",
    "        for value in date_dic.values():\n",
    "                start_date = value[0]\n",
    "                end_date = value[1]\n",
    "\n",
    "                for i in timezone_list:\n",
    "                        tz = i\n",
    "                        # print(tz)\n",
    "\n",
    "                        start_date = pd.Timestamp(start_date, tz = tz)\n",
    "                        end_date = pd.Timestamp(end_date, tz = tz)\n",
    "\n",
    "                        for i in country_list:\n",
    "                                country_code = i\n",
    "\n",
    "                                generation_df = client.query_generation(\n",
    "                                        country_code,\n",
    "                                        start = start_date,\n",
    "                                        end = end_date,\n",
    "                                        psr_type = None\n",
    "                                )\n",
    "\n",
    "                                # print(generation_df.head())\n",
    "                                # print(generation_df.tail())\n",
    "\n",
    "                                # Load to .csv\n",
    "                                generation_df.to_csv(\n",
    "                                        f\"{parent_dir}/data/test/{value[0][0:4]}_{country_code}_generation.csv\"\n",
    "                                )\n",
    "                                # Load to .json\n",
    "                                generation_df.to_json(\n",
    "                                        f\"{parent_dir}/data/test/{value[0][0:4]}_{country_code}_generation.json\",\n",
    "                                        indent = 4,\n",
    "                                        orient = \"records\"\n",
    "                                )"
   ]
  },
  {
   "cell_type": "code",
   "execution_count": 238,
   "metadata": {},
   "outputs": [],
   "source": [
    "# # Function for loading generated Dataframe to .csv & .json\n",
    "# def df_to_file():\n",
    "#     df_load()\n",
    "#     df_generation()\n",
    "#     df.to_csv(\n",
    "#         f\"{parent_dir}/data/test/{country_code}_{start_date}_{end_date}_load.csv\"\n",
    "#     )\n",
    "#     df.to_json(\n",
    "#         f\"{parent_dir}/data/test/{country_code}_{start_date}_{end_date}_load.json\",\n",
    "#         indent = 4,\n",
    "#         orient = \"records\"\n",
    "#     )"
   ]
  },
  {
   "cell_type": "code",
   "execution_count": 239,
   "metadata": {},
   "outputs": [],
   "source": [
    "# if \"__name__\" == \"__main__\":\n",
    "#     load_df_file()\n",
    "#     generation_df_file()"
   ]
  },
  {
   "cell_type": "code",
   "execution_count": 240,
   "metadata": {},
   "outputs": [],
   "source": [
    "load_df_file()\n"
   ]
  },
  {
   "cell_type": "code",
   "execution_count": 241,
   "metadata": {},
   "outputs": [],
   "source": [
    "generation_df_file()"
   ]
  },
  {
   "cell_type": "code",
   "execution_count": null,
   "metadata": {},
   "outputs": [],
   "source": []
  }
 ],
 "metadata": {
  "kernelspec": {
   "display_name": "Python 3",
   "language": "python",
   "name": "python3"
  },
  "language_info": {
   "codemirror_mode": {
    "name": "ipython",
    "version": 3
   },
   "file_extension": ".py",
   "mimetype": "text/x-python",
   "name": "python",
   "nbconvert_exporter": "python",
   "pygments_lexer": "ipython3",
   "version": "3.10.8"
  },
  "orig_nbformat": 4,
  "vscode": {
   "interpreter": {
    "hash": "26de051ba29f2982a8de78e945f0abaf191376122a1563185a90213a26c5da77"
   }
  }
 },
 "nbformat": 4,
 "nbformat_minor": 2
}
