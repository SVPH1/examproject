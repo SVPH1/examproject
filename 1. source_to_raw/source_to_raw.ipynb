{
 "cells": [
  {
   "attachments": {},
   "cell_type": "markdown",
   "metadata": {},
   "source": [
    "# source_to_raw"
   ]
  },
  {
   "cell_type": "code",
   "execution_count": 45,
   "metadata": {},
   "outputs": [],
   "source": [
    "# Import packages & setting up a connection to the ENTSOE API Client\n",
    "import pandas as pd\n",
    "from entsoe import EntsoePandasClient\n",
    "client = EntsoePandasClient(api_key = \"688d3008-48f8-4719-b811-28ae09d84db8\")\n",
    "\n",
    "# Maybe we can create a function to fetch new date everytime the script is initialized\n",
    "start_date = pd.Timestamp(\"20230101\", tz = \"Europe/Stockholm\")\n",
    "end_date = pd.Timestamp(\"20231231\", tz = \"Europe/Stockholm\")\n",
    "\n",
    "# Also maybe we can create a list of countries and loop through the list to fetch data for each country\n",
    "country_code = \"SE\"\n",
    "# country_code_from = \"\"\n",
    "# country_code_to = \"\"\n",
    "type_marketagreement_type = \"A01\"\n",
    "contract_marketagreement_type = \"A01\""
   ]
  },
  {
   "cell_type": "code",
   "execution_count": 46,
   "metadata": {},
   "outputs": [],
   "source": [
    "# Extracting the Load/Consumption Data using EntsoePandasClient\n",
    "df_load = client.query_load_and_forecast(\n",
    "    country_code,\n",
    "    start = start_date,\n",
    "    end = end_date\n",
    ")"
   ]
  },
  {
   "cell_type": "code",
   "execution_count": 47,
   "metadata": {},
   "outputs": [
    {
     "name": "stdout",
     "output_type": "stream",
     "text": [
      "<class 'pandas.core.frame.DataFrame'>\n",
      "DatetimeIndex: 900 entries, 2023-01-01 00:00:00+01:00 to 2023-02-07 11:00:00+01:00\n",
      "Freq: 60T\n",
      "Data columns (total 2 columns):\n",
      " #   Column           Non-Null Count  Dtype  \n",
      "---  ------           --------------  -----  \n",
      " 0   Forecasted Load  900 non-null    float64\n",
      " 1   Actual Load      900 non-null    float64\n",
      "dtypes: float64(2)\n",
      "memory usage: 21.1 KB\n"
     ]
    },
    {
     "data": {
      "text/html": [
       "<div>\n",
       "<style scoped>\n",
       "    .dataframe tbody tr th:only-of-type {\n",
       "        vertical-align: middle;\n",
       "    }\n",
       "\n",
       "    .dataframe tbody tr th {\n",
       "        vertical-align: top;\n",
       "    }\n",
       "\n",
       "    .dataframe thead th {\n",
       "        text-align: right;\n",
       "    }\n",
       "</style>\n",
       "<table border=\"1\" class=\"dataframe\">\n",
       "  <thead>\n",
       "    <tr style=\"text-align: right;\">\n",
       "      <th></th>\n",
       "      <th>Forecasted Load</th>\n",
       "      <th>Actual Load</th>\n",
       "    </tr>\n",
       "  </thead>\n",
       "  <tbody>\n",
       "    <tr>\n",
       "      <th>2023-02-07 07:00:00+01:00</th>\n",
       "      <td>19748.0</td>\n",
       "      <td>19859.0</td>\n",
       "    </tr>\n",
       "    <tr>\n",
       "      <th>2023-02-07 08:00:00+01:00</th>\n",
       "      <td>19925.0</td>\n",
       "      <td>20141.0</td>\n",
       "    </tr>\n",
       "    <tr>\n",
       "      <th>2023-02-07 09:00:00+01:00</th>\n",
       "      <td>19839.0</td>\n",
       "      <td>20037.0</td>\n",
       "    </tr>\n",
       "    <tr>\n",
       "      <th>2023-02-07 10:00:00+01:00</th>\n",
       "      <td>19718.0</td>\n",
       "      <td>19582.0</td>\n",
       "    </tr>\n",
       "    <tr>\n",
       "      <th>2023-02-07 11:00:00+01:00</th>\n",
       "      <td>19533.0</td>\n",
       "      <td>19196.0</td>\n",
       "    </tr>\n",
       "  </tbody>\n",
       "</table>\n",
       "</div>"
      ],
      "text/plain": [
       "                           Forecasted Load  Actual Load\n",
       "2023-02-07 07:00:00+01:00          19748.0      19859.0\n",
       "2023-02-07 08:00:00+01:00          19925.0      20141.0\n",
       "2023-02-07 09:00:00+01:00          19839.0      20037.0\n",
       "2023-02-07 10:00:00+01:00          19718.0      19582.0\n",
       "2023-02-07 11:00:00+01:00          19533.0      19196.0"
      ]
     },
     "execution_count": 47,
     "metadata": {},
     "output_type": "execute_result"
    }
   ],
   "source": [
    "# Evaluate the Load/Consumption Data(Frame)\n",
    "df_load.keys()\n",
    "df_load.info()\n",
    "df_load.isnull().sum()\n",
    "df_load.tail()"
   ]
  },
  {
   "cell_type": "code",
   "execution_count": 48,
   "metadata": {},
   "outputs": [],
   "source": [
    "# Extracting the Generation/Production Data using EntsoePandasClient\n",
    "df_generation = client.query_generation(\n",
    "    country_code,\n",
    "    start = start_date,\n",
    "    end = end_date,\n",
    "    psr_type = None\n",
    ")"
   ]
  },
  {
   "cell_type": "code",
   "execution_count": 49,
   "metadata": {},
   "outputs": [
    {
     "name": "stdout",
     "output_type": "stream",
     "text": [
      "<class 'pandas.core.frame.DataFrame'>\n",
      "DatetimeIndex: 900 entries, 2023-01-01 00:00:00+01:00 to 2023-02-07 11:00:00+01:00\n",
      "Freq: 60T\n",
      "Data columns (total 6 columns):\n",
      " #   Column                 Non-Null Count  Dtype  \n",
      "---  ------                 --------------  -----  \n",
      " 0   Fossil Gas             900 non-null    float64\n",
      " 1   Hydro Water Reservoir  900 non-null    float64\n",
      " 2   Nuclear                900 non-null    float64\n",
      " 3   Other                  900 non-null    float64\n",
      " 4   Solar                  900 non-null    float64\n",
      " 5   Wind Onshore           900 non-null    float64\n",
      "dtypes: float64(6)\n",
      "memory usage: 49.2 KB\n"
     ]
    },
    {
     "data": {
      "text/html": [
       "<div>\n",
       "<style scoped>\n",
       "    .dataframe tbody tr th:only-of-type {\n",
       "        vertical-align: middle;\n",
       "    }\n",
       "\n",
       "    .dataframe tbody tr th {\n",
       "        vertical-align: top;\n",
       "    }\n",
       "\n",
       "    .dataframe thead th {\n",
       "        text-align: right;\n",
       "    }\n",
       "</style>\n",
       "<table border=\"1\" class=\"dataframe\">\n",
       "  <thead>\n",
       "    <tr style=\"text-align: right;\">\n",
       "      <th></th>\n",
       "      <th>Fossil Gas</th>\n",
       "      <th>Hydro Water Reservoir</th>\n",
       "      <th>Nuclear</th>\n",
       "      <th>Other</th>\n",
       "      <th>Solar</th>\n",
       "      <th>Wind Onshore</th>\n",
       "    </tr>\n",
       "  </thead>\n",
       "  <tbody>\n",
       "    <tr>\n",
       "      <th>2023-02-07 07:00:00+01:00</th>\n",
       "      <td>0.0</td>\n",
       "      <td>8626.0</td>\n",
       "      <td>5792.0</td>\n",
       "      <td>1341.0</td>\n",
       "      <td>0.0</td>\n",
       "      <td>7221.0</td>\n",
       "    </tr>\n",
       "    <tr>\n",
       "      <th>2023-02-07 08:00:00+01:00</th>\n",
       "      <td>0.0</td>\n",
       "      <td>8897.0</td>\n",
       "      <td>5792.0</td>\n",
       "      <td>1376.0</td>\n",
       "      <td>3.0</td>\n",
       "      <td>7086.0</td>\n",
       "    </tr>\n",
       "    <tr>\n",
       "      <th>2023-02-07 09:00:00+01:00</th>\n",
       "      <td>0.0</td>\n",
       "      <td>9087.0</td>\n",
       "      <td>5792.0</td>\n",
       "      <td>1375.0</td>\n",
       "      <td>15.0</td>\n",
       "      <td>6834.0</td>\n",
       "    </tr>\n",
       "    <tr>\n",
       "      <th>2023-02-07 10:00:00+01:00</th>\n",
       "      <td>0.0</td>\n",
       "      <td>9198.0</td>\n",
       "      <td>5792.0</td>\n",
       "      <td>1357.0</td>\n",
       "      <td>40.0</td>\n",
       "      <td>6675.0</td>\n",
       "    </tr>\n",
       "    <tr>\n",
       "      <th>2023-02-07 11:00:00+01:00</th>\n",
       "      <td>0.0</td>\n",
       "      <td>9412.0</td>\n",
       "      <td>5793.0</td>\n",
       "      <td>1405.0</td>\n",
       "      <td>60.0</td>\n",
       "      <td>6729.0</td>\n",
       "    </tr>\n",
       "  </tbody>\n",
       "</table>\n",
       "</div>"
      ],
      "text/plain": [
       "                           Fossil Gas  Hydro Water Reservoir  Nuclear   Other  \\\n",
       "2023-02-07 07:00:00+01:00         0.0                 8626.0   5792.0  1341.0   \n",
       "2023-02-07 08:00:00+01:00         0.0                 8897.0   5792.0  1376.0   \n",
       "2023-02-07 09:00:00+01:00         0.0                 9087.0   5792.0  1375.0   \n",
       "2023-02-07 10:00:00+01:00         0.0                 9198.0   5792.0  1357.0   \n",
       "2023-02-07 11:00:00+01:00         0.0                 9412.0   5793.0  1405.0   \n",
       "\n",
       "                           Solar  Wind Onshore  \n",
       "2023-02-07 07:00:00+01:00    0.0        7221.0  \n",
       "2023-02-07 08:00:00+01:00    3.0        7086.0  \n",
       "2023-02-07 09:00:00+01:00   15.0        6834.0  \n",
       "2023-02-07 10:00:00+01:00   40.0        6675.0  \n",
       "2023-02-07 11:00:00+01:00   60.0        6729.0  "
      ]
     },
     "execution_count": 49,
     "metadata": {},
     "output_type": "execute_result"
    }
   ],
   "source": [
    "# Evaluate the Generation/Production Data(Frame)\n",
    "df_generation.keys()\n",
    "df_generation.info()\n",
    "df_generation.isnull().sum()\n",
    "df_generation.tail()"
   ]
  },
  {
   "cell_type": "code",
   "execution_count": 53,
   "metadata": {},
   "outputs": [
    {
     "name": "stdout",
     "output_type": "stream",
     "text": [
      "c:\\Users\\SantiTaweesamarn\\Desktop\\My Desktop\\Data Engineering 2022\\Module - Graduation Project\\examproject\\1. source_to_raw\n",
      "c:\\Users\\SantiTaweesamarn\\Desktop\\My Desktop\\Data Engineering 2022\\Module - Graduation Project\\examproject\n"
     ]
    }
   ],
   "source": [
    "# Create a Local Reference\n",
    "import os\n",
    "current_dir =  os.path.abspath(\"\")\n",
    "parent_dir = os.path.abspath(current_dir + \"/../\")\n",
    "print(current_dir)\n",
    "print(parent_dir)"
   ]
  },
  {
   "cell_type": "code",
   "execution_count": 52,
   "metadata": {},
   "outputs": [],
   "source": [
    "# Load the Data into .csv & .json\n",
    "df_load.to_csv(f\"{parent_dir}/data/test/{country_code}_load.csv\")\n",
    "df_generation.to_csv(f\"{parent_dir}/data/test/{country_code}_generation.csv\")\n",
    "\n",
    "df_load.to_json(f\"{parent_dir}/data/test/{country_code}_load.json\", indent = 4, orient = \"records\")\n",
    "df_generation.to_json(f\"{parent_dir}/data/test/{country_code}_generation.json\", indent = 4, orient = \"records\")"
   ]
  },
  {
   "cell_type": "code",
   "execution_count": null,
   "metadata": {},
   "outputs": [],
   "source": []
  }
 ],
 "metadata": {
  "kernelspec": {
   "display_name": "Python 3",
   "language": "python",
   "name": "python3"
  },
  "language_info": {
   "codemirror_mode": {
    "name": "ipython",
    "version": 3
   },
   "file_extension": ".py",
   "mimetype": "text/x-python",
   "name": "python",
   "nbconvert_exporter": "python",
   "pygments_lexer": "ipython3",
   "version": "3.10.8"
  },
  "orig_nbformat": 4,
  "vscode": {
   "interpreter": {
    "hash": "26de051ba29f2982a8de78e945f0abaf191376122a1563185a90213a26c5da77"
   }
  }
 },
 "nbformat": 4,
 "nbformat_minor": 2
}
