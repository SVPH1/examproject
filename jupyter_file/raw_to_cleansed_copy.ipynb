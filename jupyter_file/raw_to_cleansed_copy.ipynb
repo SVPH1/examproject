{
 "cells": [
  {
   "cell_type": "code",
   "execution_count": 6,
   "metadata": {},
   "outputs": [],
   "source": [
    "# Import packages & setting up a connection to the ENTSOE API Client\n",
    "import pandas as pd\n",
    "import numpy as np"
   ]
  },
  {
   "cell_type": "code",
   "execution_count": 7,
   "metadata": {},
   "outputs": [
    {
     "name": "stdout",
     "output_type": "stream",
     "text": [
      "c:\\Users\\SantiTaweesamarn\\Desktop\\My Desktop\\Data Engineering 2022\\Module - Graduation Project\\examproject\n",
      "c:\\Users\\SantiTaweesamarn\\Desktop\\My Desktop\\Data Engineering 2022\\Module - Graduation Project\n",
      "c:\\Users\\SantiTaweesamarn\\Desktop\\My Desktop\\Data Engineering 2022\\Module - Graduation Project\\data\\raw\n"
     ]
    }
   ],
   "source": [
    "# Create a Local Reference\n",
    "import os\n",
    "current_dir = os.path.abspath(\"\")\n",
    "parent_dir = os.path.abspath(current_dir + \"/../\")\n",
    "data_dir = os.path.abspath(parent_dir + \"/data/raw/\")\n",
    "test_dir = os.path.abspath(parent_dir + \"/data/test/\")\n",
    "\n",
    "print(current_dir)\n",
    "print(parent_dir)\n",
    "print(data_dir)"
   ]
  },
  {
   "cell_type": "code",
   "execution_count": 8,
   "metadata": {},
   "outputs": [],
   "source": [
    "# Read data file(s)\n",
    "import glob\n",
    "\n",
    "# Loop through directory, Extract data from file, Transform data in pandas\n",
    "for file in glob.glob(data_dir + \"/*.csv\"):\n",
    "    print(file)\n",
    "\n",
    "    # Split the path to get country code... Use later\n",
    "    filename_split = file.split(\"_\", maxsplit = 2)\n",
    "    year = filename_split[0][-4:]\n",
    "    country_code = filename_split[1]\n",
    "    data_category = filename_split[2][:-4]\n",
    "\n",
    "# if \"generation\" in file:\n",
    "    with open(file) as f:\n",
    "        # Read file and create DataFrame\n",
    "        df = pd.read_csv(\n",
    "            f,\n",
    "            delimiter = \",\",\n",
    "            parse_dates = [\"Unnamed: 0\"],\n",
    "        )\n",
    "\n",
    "        # Transforming \"Timestamp\"-column\n",
    "        df.rename(columns = {\"Unnamed: 0\": \"Timestamp\"}, inplace = True)\n",
    "        df[\"Timestamp\"] = df[\"Timestamp\"].dt.tz_localize(None) # Replaced tz = \"Europe/Stockholm\" with None to get rid of \"00:00:00+01:00\"\n",
    "\n",
    "        # Create a new \"Country\"-column and shift it to be the \"first\"-column\n",
    "        df['Country'] = np.nan\n",
    "        df['Country'] = df['Country'].replace(np.nan, filename_split[1]) # filename_split[1] returns the country code from the path\n",
    "        first_column = df.pop(\"Country\")\n",
    "        df.insert(0, \"Country\", first_column)\n",
    "\n",
    "        # Drop second-source columns such as that contain \".1\"\n",
    "        df = df[df.columns.drop(list(df.filter(regex='.1')))]\n",
    "\n",
    "        # Drop \"Marine\"-column\n",
    "        df = df[df.columns.drop(list(df.filter(regex='Marine')))]\n",
    "\n",
    "        # Drop first row in DataFrame if row contains \"Actual\" and if filename contains \"generation\"\n",
    "        if (data_category == \"generation\"):\n",
    "            df = df.drop(df[df[\"Wind Onshore\"] == \"Actual Aggregated\"].index)\n",
    "\n",
    "        # Fill missing values in df\n",
    "        df.fillna(float(0))\n",
    "\n",
    "        print(df)\n",
    "\n",
    "        # Load to .csv and format date\n",
    "        if len(country_code) > 2:\n",
    "            df.to_csv(\n",
    "                f\"{parent_dir}/data/cleansed/SE_zones/{year}_{country_code}_{data_category}.csv\",\n",
    "                date_format = \"%Y-%m-%d\",\n",
    "                index = False\n",
    "            )\n",
    "        else:\n",
    "            df.to_csv(\n",
    "                    f\"{parent_dir}/data/cleansed/{year}_{country_code}_{data_category}.csv\",\n",
    "                    date_format = \"%Y-%m-%d\",\n",
    "                    index = False\n",
    "            )"
   ]
  }
 ],
 "metadata": {
  "kernelspec": {
   "display_name": "Python 3",
   "language": "python",
   "name": "python3"
  },
  "language_info": {
   "codemirror_mode": {
    "name": "ipython",
    "version": 3
   },
   "file_extension": ".py",
   "mimetype": "text/x-python",
   "name": "python",
   "nbconvert_exporter": "python",
   "pygments_lexer": "ipython3",
   "version": "3.11.0 (main, Oct 24 2022, 18:26:48) [MSC v.1933 64 bit (AMD64)]"
  },
  "orig_nbformat": 4,
  "vscode": {
   "interpreter": {
    "hash": "5238573367df39f7286bb46f9ff5f08f63a01a80960060ce41e3c79b190280fa"
   }
  }
 },
 "nbformat": 4,
 "nbformat_minor": 2
}
